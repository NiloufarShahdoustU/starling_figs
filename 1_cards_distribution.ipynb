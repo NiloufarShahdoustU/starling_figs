{
 "cells": [
  {
   "cell_type": "markdown",
   "id": "3460432c",
   "metadata": {},
   "source": [
    "# creating task paradigm cards distribution"
   ]
  },
  {
   "cell_type": "code",
   "execution_count": 1,
   "id": "9d88a4d6-96e0-4f0b-b75e-d2b236148054",
   "metadata": {},
   "outputs": [],
   "source": [
    "import numpy as np\n",
    "import matplotlib.pyplot as plt\n",
    "import matplotlib\n",
    "matplotlib.use('svg')\n",
    "matplotlib.rcParams['svg.fonttype'] = 'none'\n",
    "\n",
    "import pandas as pd\n",
    "import os\n",
    "from scipy.optimize import curve_fit\n",
    "import matplotlib.colors as mcolors\n",
    "import warnings\n",
    "warnings.filterwarnings(\"ignore\", category=UserWarning, append=True)\n",
    "from scipy.stats import f_oneway\n",
    "from statsmodels.stats.multicomp import pairwise_tukeyhsd\n",
    "from scipy.stats import ttest_rel\n",
    "from itertools import combinations\n",
    "from scipy.stats import f_oneway\n",
    "import seaborn as sns\n",
    "from collections import Counter\n"
   ]
  },
  {
   "cell_type": "code",
   "execution_count": 2,
   "id": "99cda828",
   "metadata": {},
   "outputs": [],
   "source": [
    "output_folder = '1_cards_distribution'\n",
    "\n",
    "if not os.path.exists(output_folder):\n",
    "    os.makedirs(output_folder)"
   ]
  },
  {
   "cell_type": "code",
   "execution_count": 3,
   "id": "3b2cfaff",
   "metadata": {},
   "outputs": [],
   "source": [
    "# Define decks\n",
    "uniform_deck = [1]*5 + [2]*5 + [3]*5 + [4]*5 + [5]*5 + [6]*5 + [7]*5 + [8]*5 + [9]*5\n",
    "low_deck = [1]*9 + [2]*8 + [3]*7 + [4]*6 + [5]*5 + [6]*4 + [7]*3 + [8]*2 + [9]*1\n",
    "high_deck = [9]*9 + [8]*8 + [7]*7 + [6]*6 + [5]*5 + [4]*4 + [3]*3 + [2]*2 + [1]*1\n",
    "\n",
    "\n",
    "# Decks, names, and colors\n",
    "distributions = {\n",
    "    'uniform': (uniform_deck, '#808080'),\n",
    "    'low': (low_deck, '#ff7f0e'),\n",
    "    'high': (high_deck, '#2ca02c')\n",
    "}\n",
    "\n",
    "# Create separate figures\n",
    "for name, (deck, color) in distributions.items():\n",
    "    counts = Counter(deck)\n",
    "    cards = list(range(1, 10))\n",
    "    values = [counts[card] for card in cards]\n",
    "\n",
    "    plt.figure(figsize=(6, 4))\n",
    "    plt.bar(cards, values, color=color)\n",
    "    plt.xticks(cards, fontsize=12, fontweight='bold')\n",
    "    plt.yticks(range(10), fontsize=12, fontweight='bold')  # Set y-axis from 0 to 9\n",
    "    plt.xlabel(\"card number\", fontsize=13, fontweight='bold')\n",
    "    plt.ylabel(\"frequency\", fontsize=13, fontweight='bold')\n",
    "    plt.title(f\"{name} distribution\", fontsize=14, fontweight='bold')\n",
    "\n",
    "    ax = plt.gca()\n",
    "    ax.spines['top'].set_visible(False)\n",
    "    ax.spines['right'].set_visible(False)\n",
    "\n",
    "    plt.tight_layout()\n",
    "\n",
    "    # Save as SVG and PDF\n",
    "    plt.savefig(os.path.join(output_folder, f\"{name}_distribution.svg\"))\n",
    "    plt.savefig(os.path.join(output_folder, f\"{name}_distribution.pdf\"))\n",
    "    plt.close()"
   ]
  }
 ],
 "metadata": {
  "kernelspec": {
   "display_name": "base",
   "language": "python",
   "name": "python3"
  },
  "language_info": {
   "codemirror_mode": {
    "name": "ipython",
    "version": 3
   },
   "file_extension": ".py",
   "mimetype": "text/x-python",
   "name": "python",
   "nbconvert_exporter": "python",
   "pygments_lexer": "ipython3",
   "version": "3.12.7"
  }
 },
 "nbformat": 4,
 "nbformat_minor": 5
}
